{
 "cells": [
  {
   "cell_type": "code",
   "execution_count": 1,
   "id": "c9519952-8459-449c-80b7-f44c9f490e82",
   "metadata": {},
   "outputs": [],
   "source": [
    "from sidecar import Sidecar\n",
    "import keplergl\n",
    "import pandas as pd\n",
    "import geopandas as gpd"
   ]
  },
  {
   "cell_type": "code",
   "execution_count": 2,
   "id": "8294737e-0544-4941-86d6-93564b85bb1c",
   "metadata": {},
   "outputs": [],
   "source": [
    "def convert_to_ijv(mtx, mode):\n",
    "    ijv = (\n",
    "        mtx\n",
    "        .reset_index(names=['origin'])\n",
    "        .melt(id_vars=['origin'], \n",
    "              value_vars=mtx.index, \n",
    "              var_name='destination', \n",
    "              value_name=f'{mode}_{purpose}')\n",
    "        .set_index(['origin', 'destination'])\n",
    "    )\n",
    "    \n",
    "    return ijv"
   ]
  },
  {
   "cell_type": "code",
   "execution_count": 3,
   "id": "e1ae8ded-c4c8-4874-89c5-68be4dd8fdbf",
   "metadata": {},
   "outputs": [],
   "source": [
    "def merge_od_centroid(mt_ijv, zone_shp):\n",
    "    mt_ijv = (\n",
    "        mt_ijv\n",
    "        .fillna(0)\n",
    "        .loc[mt_ijv.sum(axis=1)>0]\n",
    "    )\n",
    "    \n",
    "    mt_ijv = (\n",
    "        mt_ijv\n",
    "        .reset_index()\n",
    "        .merge(zone_shp.drop('geometry', axis=1), how='left', left_on='origin', right_on='ART3_2B_Ne')\n",
    "        .rename(columns={col: f'from_{col}' for col in zone_shp.columns})\n",
    "        .merge(zone_shp.drop('geometry', axis=1), how='left', left_on='destination', right_on='ART3_2B_Ne')\n",
    "        .rename(columns={col: f'to_{col}' for col in zone_shp.columns})\n",
    "        .dropna(subset=['from_ART3_2B_Ne', 'to_ART3_2B_Ne'])\n",
    "    ) \n",
    "    \n",
    "    return mt_ijv"
   ]
  },
  {
   "cell_type": "code",
   "execution_count": 70,
   "id": "604fbd51-4825-4a66-a30e-f4d29a125e0f",
   "metadata": {
    "jupyter": {
     "source_hidden": true
    },
    "tags": []
   },
   "outputs": [],
   "source": [
    "config = {'version': 'v1',\n",
    " 'config': {'visState': {'filters': [],\n",
    "   'layers': [{'id': 'irodas',\n",
    "     'type': 'arc',\n",
    "     'config': {'dataId': 'demand_matrix',\n",
    "      'label': 'from centroid -> to centroid arc',\n",
    "      'color': [187, 0, 0],\n",
    "      'highlightColor': [252, 242, 26, 255],\n",
    "      'columns': {'lat0': 'from_centroid_lat',\n",
    "       'lng0': 'from_centroid_lon',\n",
    "       'lat1': 'to_centroid_lat',\n",
    "       'lng1': 'to_centroid_lon'},\n",
    "      'isVisible': True,\n",
    "      'visConfig': {'opacity': 0.2,\n",
    "       'thickness': 2,\n",
    "       'colorRange': {'name': 'Global Warming',\n",
    "        'type': 'sequential',\n",
    "        'category': 'Uber',\n",
    "        'colors': ['#5A1846',\n",
    "         '#900C3F',\n",
    "         '#C70039',\n",
    "         '#E3611C',\n",
    "         '#F1920E',\n",
    "         '#FFC300']},\n",
    "       'sizeRange': [0, 20],\n",
    "       'targetColor': [255, 251, 152]},\n",
    "      'hidden': False,\n",
    "      'textLabel': [{'field': None,\n",
    "        'color': [255, 255, 255],\n",
    "        'size': 18,\n",
    "        'offset': [0, 0],\n",
    "        'anchor': 'start',\n",
    "        'alignment': 'center'}]},\n",
    "     'visualChannels': {'colorField': {'name': 'PTPerson_AllPurp',\n",
    "       'type': 'integer'},\n",
    "      'colorScale': 'quantile',\n",
    "      'sizeField': {'name': 'PTPerson_AllPurp', 'type': 'integer'},\n",
    "      'sizeScale': 'linear'}},\n",
    "    {'id': 't6w4ez8',\n",
    "     'type': 'geojson',\n",
    "     'config': {'dataId': 'zones',\n",
    "      'label': 'new layer',\n",
    "      'color': [18, 92, 119],\n",
    "      'highlightColor': [252, 242, 26, 255],\n",
    "      'columns': {'geojson': 'geometry'},\n",
    "      'isVisible': True,\n",
    "      'visConfig': {'opacity': 0.8,\n",
    "       'strokeOpacity': 0.8,\n",
    "       'thickness': 0.5,\n",
    "       'strokeColor': None,\n",
    "       'colorRange': {'name': 'Global Warming',\n",
    "        'type': 'sequential',\n",
    "        'category': 'Uber',\n",
    "        'colors': ['#5A1846',\n",
    "         '#900C3F',\n",
    "         '#C70039',\n",
    "         '#E3611C',\n",
    "         '#F1920E',\n",
    "         '#FFC300']},\n",
    "       'strokeColorRange': {'name': 'Global Warming',\n",
    "        'type': 'sequential',\n",
    "        'category': 'Uber',\n",
    "        'colors': ['#5A1846',\n",
    "         '#900C3F',\n",
    "         '#C70039',\n",
    "         '#E3611C',\n",
    "         '#F1920E',\n",
    "         '#FFC300']},\n",
    "       'radius': 10,\n",
    "       'sizeRange': [0, 10],\n",
    "       'radiusRange': [0, 50],\n",
    "       'heightRange': [0, 500],\n",
    "       'elevationScale': 5,\n",
    "       'enableElevationZoomFactor': True,\n",
    "       'stroked': True,\n",
    "       'filled': False,\n",
    "       'enable3d': False,\n",
    "       'wireframe': False},\n",
    "      'hidden': False,\n",
    "      'textLabel': [{'field': None,\n",
    "        'color': [255, 255, 255],\n",
    "        'size': 18,\n",
    "        'offset': [0, 0],\n",
    "        'anchor': 'start',\n",
    "        'alignment': 'center'}]},\n",
    "     'visualChannels': {'colorField': None,\n",
    "      'colorScale': 'quantile',\n",
    "      'strokeColorField': None,\n",
    "      'strokeColorScale': 'quantile',\n",
    "      'sizeField': None,\n",
    "      'sizeScale': 'linear',\n",
    "      'heightField': None,\n",
    "      'heightScale': 'linear',\n",
    "      'radiusField': None,\n",
    "      'radiusScale': 'linear'}}],\n",
    "   'interactionConfig': {'tooltip': {'fieldsToShow': {'demand_matrix': [{'name': 'origin',\n",
    "        'format': None},\n",
    "       {'name': 'destination', 'format': None},\n",
    "       {'name': 'CarPerson_HBW', 'format': None},\n",
    "       {'name': 'PTPerson_HBW', 'format': None},\n",
    "       {'name': 'CarPerson_HBE', 'format': None}],\n",
    "      'zones': [{'name': 'ART3_2B_Ne', 'format': None},\n",
    "       {'name': 'Zone', 'format': None},\n",
    "       {'name': 'Area', 'format': None}]},\n",
    "     'compareMode': False,\n",
    "     'compareType': 'absolute',\n",
    "     'enabled': False},\n",
    "    'brush': {'size': 0.5, 'enabled': True},\n",
    "    'geocoder': {'enabled': False},\n",
    "    'coordinate': {'enabled': False}},\n",
    "   'layerBlending': 'normal',\n",
    "   'splitMaps': [],\n",
    "   'animationConfig': {'currentTime': None, 'speed': 1}},\n",
    "  'mapState': {'bearing': -18.433789621530053,\n",
    "   'dragRotate': True,\n",
    "   'latitude': -36.86262844956161,\n",
    "   'longitude': 174.74352568506777,\n",
    "   'pitch': 5.777654402162497,\n",
    "   'zoom': 10.120369203891174,\n",
    "   'isSplit': False},\n",
    "  'mapStyle': {'styleType': 'dark',\n",
    "   'topLayerGroups': {},\n",
    "   'visibleLayerGroups': {'label': True,\n",
    "    'road': True,\n",
    "    'border': False,\n",
    "    'building': True,\n",
    "    'water': True,\n",
    "    'land': True,\n",
    "    '3d building': False},\n",
    "   'threeDBuildingColor': [9.665468314072013,\n",
    "    17.18305478057247,\n",
    "    31.1442867897876],\n",
    "   'mapStyles': {}}}}"
   ]
  },
  {
   "cell_type": "markdown",
   "id": "7a67a908-b7f5-4535-9761-1729893b8dfe",
   "metadata": {},
   "source": [
    "# Convert Matrix to IJV Format"
   ]
  },
  {
   "cell_type": "code",
   "execution_count": 80,
   "id": "47f56629-c3f3-4fc7-ab4f-8d1838aa6f08",
   "metadata": {},
   "outputs": [
    {
     "name": "stderr",
     "output_type": "stream",
     "text": [
      "/tmp/ipykernel_6498/3793826346.py:3: UserWarning: Geometry is in a geographic CRS. Results from 'centroid' are likely incorrect. Use 'GeoSeries.to_crs()' to re-project geometries to a projected CRS before this operation.\n",
      "\n",
      "  zone_shp['centroid_lat'] = zone_shp['geometry'].centroid.y\n",
      "/tmp/ipykernel_6498/3793826346.py:4: UserWarning: Geometry is in a geographic CRS. Results from 'centroid' are likely incorrect. Use 'GeoSeries.to_crs()' to re-project geometries to a projected CRS before this operation.\n",
      "\n",
      "  zone_shp['centroid_lon'] = zone_shp['geometry'].centroid.x\n"
     ]
    }
   ],
   "source": [
    "zone_shp = gpd.read_file(\"input/AWHC zoning system v1.geojson\").to_crs('EPSG:4326')\n",
    "\n",
    "zone_shp['centroid_lat'] = zone_shp['geometry'].centroid.y\n",
    "zone_shp['centroid_lon'] = zone_shp['geometry'].centroid.x\n",
    "is_airport = zone_shp['ART3_2B_Ne']==478\n",
    "\n",
    "international = zone_shp.loc[is_airport].reset_index(drop=True)\n",
    "international['ART3_2B_Ne'] = 597\n",
    "\n",
    "domestic = zone_shp.loc[is_airport].reset_index(drop=True)\n",
    "domestic['ART3_2B_Ne'] = 598\n",
    "\n",
    "zone_shp = pd.concat([zone_shp, international, domestic], ignore_index=True)\n",
    "\n"
   ]
  },
  {
   "cell_type": "code",
   "execution_count": 49,
   "id": "a058147b-0bdd-4f41-9b9c-e272fb7a0b75",
   "metadata": {},
   "outputs": [
    {
     "name": "stdout",
     "output_type": "stream",
     "text": [
      "CPU times: user 24.9 s, sys: 159 ms, total: 25 s\n",
      "Wall time: 25 s\n"
     ]
    }
   ],
   "source": [
    "%%time\n",
    "\n",
    "scen_id = '20_Reference_pwclu'\n",
    "purposes = ['HBW', 'HBE', 'HBO', 'AllPurp']\n",
    "\n",
    "mt_ijv = pd.DataFrame()\n",
    "for purpose in purposes:\n",
    "    file_name = f\"sectors 2065/{scen_id}/0205_LRT_CC2M_MoT_stage5_E46b_2105_MSM demand sectoring_{purpose}_65120_05thOct22.xlsx\"\n",
    "    \n",
    "    car_person_mtx = pd.read_excel(file_name, sheet_name='Car Person MSM', index_col=0)\n",
    "    car_person_ijv = convert_to_ijv(car_person_mtx, 'CarPerson')\n",
    "    \n",
    "    pt_person_mtx = pd.read_excel(file_name, sheet_name='PT Person MSM', index_col=0)\n",
    "    pt_person_ijv = convert_to_ijv(pt_person_mtx, 'PTPerson')\n",
    "    \n",
    "    mt_ijv = pd.concat([mt_ijv, car_person_ijv, pt_person_ijv], axis=1)\n",
    "    \n",
    "ref_mt_ijv = (\n",
    "    merge_od_centroid(mt_ijv, zone_shp)\n",
    "    .dropna(subset=['from_Zone', 'to_Zone'])\n",
    ")\n",
    "\n",
    "ref_mt_ijv.to_csv(f'sectors 2065/outputs-ijv/{scen_id}_msm_matrix_ijv.csv')"
   ]
  },
  {
   "cell_type": "code",
   "execution_count": 50,
   "id": "635c62e8-1636-4063-b388-b77e4628cfad",
   "metadata": {},
   "outputs": [
    {
     "name": "stdout",
     "output_type": "stream",
     "text": [
      "CPU times: user 25 s, sys: 109 ms, total: 25.1 s\n",
      "Wall time: 25.1 s\n"
     ]
    }
   ],
   "source": [
    "%%time\n",
    "\n",
    "scen_id = '14_DoMin'\n",
    "purposes = ['HBW', 'HBE', 'HBO', 'AllPurp']\n",
    "\n",
    "mt_ijv = pd.DataFrame()\n",
    "for purpose in purposes:\n",
    "    file_name = f\"sectors 2065/{scen_id}/0205_LRT_CC2M_MoT_stage5_E46b_2105_MSM demand sectoring_{purpose}_65114_05thOct22.xlsx\"\n",
    "    \n",
    "    car_person_mtx = pd.read_excel(file_name, sheet_name='Car Person MSM', index_col=0)\n",
    "    car_person_ijv = convert_to_ijv(car_person_mtx, 'CarPerson')\n",
    "    \n",
    "    pt_person_mtx = pd.read_excel(file_name, sheet_name='PT Person MSM', index_col=0)\n",
    "    pt_person_ijv = convert_to_ijv(pt_person_mtx, 'PTPerson')\n",
    "    \n",
    "    mt_ijv = pd.concat([mt_ijv, car_person_ijv, pt_person_ijv], axis=1)\n",
    "\n",
    "dm_mt_ijv = (\n",
    "    merge_od_centroid(mt_ijv, zone_shp)\n",
    "    .dropna(subset=['from_Zone', 'to_Zone'])\n",
    ")\n",
    "\n",
    "dm_mt_ijv.to_csv(f'sectors 2065/outputs-ijv/{scen_id}_msm_matrix_ijv.csv')"
   ]
  },
  {
   "cell_type": "code",
   "execution_count": 81,
   "id": "3bfe4211-e3f8-4a59-9c3b-c000f980d004",
   "metadata": {},
   "outputs": [
    {
     "name": "stdout",
     "output_type": "stream",
     "text": [
      "User Guide: https://docs.kepler.gl/docs/keplergl-jupyter\n",
      "Map saved to sectors 2065/outputs-keplergl/20_Reference_pwclu - demand matrix.html!\n",
      "Map saved to sectors 2065/outputs-keplergl/14_DoMin - demand matrix.html!\n"
     ]
    }
   ],
   "source": [
    "wl = keplergl.KeplerGl(height=900, config=config)\n",
    "wl.add_data(data=zone_shp, name='zones')\n",
    "wl.add_data(data=ref_mt_ijv, name='demand_matrix')\n",
    "wl.save_to_html(file_name='sectors 2065/outputs-keplergl/20_Reference_pwclu - demand matrix.html')\n",
    "\n",
    "wl.add_data(data=dm_mt_ijv, name='demand_matrix')\n",
    "wl.save_to_html(file_name='sectors 2065/outputs-keplergl/14_DoMin - demand matrix.html')"
   ]
  }
 ],
 "metadata": {
  "kernelspec": {
   "display_name": "Python 3 (ipykernel)",
   "language": "python",
   "name": "python3"
  },
  "language_info": {
   "codemirror_mode": {
    "name": "ipython",
    "version": 3
   },
   "file_extension": ".py",
   "mimetype": "text/x-python",
   "name": "python",
   "nbconvert_exporter": "python",
   "pygments_lexer": "ipython3",
   "version": "3.8.10"
  }
 },
 "nbformat": 4,
 "nbformat_minor": 5
}
