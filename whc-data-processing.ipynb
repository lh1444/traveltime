{
 "cells": [
  {
   "cell_type": "code",
   "execution_count": 1,
   "id": "5873b919-38d9-4091-a5ed-6695a7064a74",
   "metadata": {
    "tags": []
   },
   "outputs": [],
   "source": [
    "import pandas as pd\n",
    "import os\n",
    "import io"
   ]
  },
  {
   "cell_type": "markdown",
   "id": "c872ecda-3942-441b-a12f-fc733aa22f0a",
   "metadata": {
    "jp-MarkdownHeadingCollapsed": true,
    "tags": []
   },
   "source": [
    "# Pull Emission Data for CBD"
   ]
  },
  {
   "cell_type": "code",
   "execution_count": 50,
   "id": "020dbbc9-9774-4e9b-9555-e1a256db4819",
   "metadata": {
    "tags": []
   },
   "outputs": [],
   "source": [
    "data_dir = '/mnt/p/323/3236145/TTR/Model/Outputs/__Shortlist Options/i11.6_pwc/004_Emission/004_Emissions_CBD/Outputs'\n",
    "results = pd.DataFrame()\n",
    "\n",
    "for filename in os.listdir(data_dir):\n",
    "    path = os.path.join(data_dir, filename)\n",
    "    # name_rows = [5]\n",
    "    # name = pd.read_csv(path, skiprows = lambda x: x not in name_rows)\n",
    "    # test = pd.read_csv(path, skiprows=11)\n",
    "    \n",
    "    f = io.open(path, mode=\"r\", encoding=\"utf-8\")\n",
    "    content = f.readlines()\n",
    "    name = content[4].split(',')[1].strip()\n",
    "    result = pd.read_csv(path, skiprows=11)\n",
    "    result['scenario'] = name\n",
    "    \n",
    "    results = pd.concat([results, result])\n",
    "    \n",
    "results['short_name'] = results['scenario'].apply(lambda x: f\"{x[:4]}_{x[8:-5].replace('WHC_','')}\")"
   ]
  },
  {
   "cell_type": "code",
   "execution_count": 52,
   "id": "39097346-dcb6-46be-823c-d09e37e388f2",
   "metadata": {
    "tags": []
   },
   "outputs": [],
   "source": [
    "results.drop('Unnamed: 4',axis=1).set_index('scenario').to_csv(\"/mnt/p/323/3236145/TTR/Model/Outputs/__Shortlist Options/i11.6_pwc/004_Emission/004_Emissions_CBD/emission_summary.csv\")"
   ]
  },
  {
   "cell_type": "markdown",
   "id": "804ce680-af75-4d65-b184-725122d2bd10",
   "metadata": {
    "tags": []
   },
   "source": [
    "# Pull PT Travel Time Data Out"
   ]
  },
  {
   "cell_type": "code",
   "execution_count": 33,
   "id": "32bfcd13-aae9-4aad-a1f4-cf2ec93e2b6d",
   "metadata": {
    "tags": []
   },
   "outputs": [
    {
     "name": "stdout",
     "output_type": "stream",
     "text": [
      "CPU times: user 1min 53s, sys: 411 ms, total: 1min 53s\n",
      "Wall time: 2min 8s\n"
     ]
    }
   ],
   "source": [
    "%%time\n",
    "\n",
    "data_dir = '/mnt/p/323/3236145/TTR/Model/Outputs/__Shortlist Options'\n",
    "t_mtx = pd.DataFrame()\n",
    "\n",
    "for filename in os.listdir(data_dir):\n",
    "    path = os.path.join(data_dir, filename)\n",
    "    if '51' in path and '_Travel_time matrices.xlsx' in path:\n",
    "        excel = pd.ExcelFile(path)\n",
    "        sheets = excel.sheet_names\n",
    "\n",
    "        for sheet in sheets:\n",
    "            mtx = pd.read_excel(excel, sheet, index_col=0, header=0)\n",
    "            mtx = mtx.stack().reset_index()\n",
    "            mtx.columns = ['orig', 'dest', sheet]\n",
    "            mtx = mtx.set_index(['orig', 'dest'])\n",
    "\n",
    "            t_mtx = pd.concat([t_mtx, mtx], axis=1)"
   ]
  },
  {
   "cell_type": "code",
   "execution_count": 34,
   "id": "54cfebb9-3f3c-402d-89bc-cc64e745109a",
   "metadata": {
    "tags": []
   },
   "outputs": [],
   "source": [
    "t_time_ods = pd.read_csv(f'{data_dir}/python/input/travel-time-zone-pairs.csv')\n",
    "od_grp_dict = dict(t_time_ods.set_index(['From Zone', 'To Zone'])['Travel Time Group'])\n",
    "od_dir_dict = dict(t_time_ods.set_index(['From Zone', 'To Zone']).apply(lambda x: (x.From, x.To), axis=1))\n",
    "od_t_mtx = t_mtx.loc[od_grp_dict.keys()]\n",
    "od_t_mtx = od_t_mtx.stack().reset_index()\n",
    "od_t_mtx.columns = ['orig', 'dest', 'peak_scen', 'value']\n",
    "\n",
    "od_t_mtx['mode_scenario'] = od_t_mtx['peak_scen'].apply(lambda x: x[2:-2])\n",
    "od_t_mtx['peak'] = od_t_mtx['peak_scen'].apply(lambda x: x[:2])\n",
    "od_t_mtx['group'] = od_t_mtx.apply(lambda x: od_grp_dict[(x.orig, x.dest)], axis=1)\n",
    "od_t_mtx['direction'] = od_t_mtx.apply(lambda x: od_dir_dict[(x.orig, x.dest)], axis=1)\n",
    "\n",
    "od_t_mtx = od_t_mtx.pivot(index=['orig','dest','group', 'direction','peak'], columns='mode_scenario', values='value')\n",
    "od_t_mtx.to_csv(f\"{data_dir}/python/output/travel_time_od_summary.csv\")"
   ]
  },
  {
   "cell_type": "code",
   "execution_count": 35,
   "id": "1c7a3c3b-af6a-4e4a-b303-250b729afefd",
   "metadata": {
    "tags": []
   },
   "outputs": [
    {
     "data": {
      "text/html": [
       "<div>\n",
       "<style scoped>\n",
       "    .dataframe tbody tr th:only-of-type {\n",
       "        vertical-align: middle;\n",
       "    }\n",
       "\n",
       "    .dataframe tbody tr th {\n",
       "        vertical-align: top;\n",
       "    }\n",
       "\n",
       "    .dataframe thead th {\n",
       "        text-align: right;\n",
       "    }\n",
       "</style>\n",
       "<table border=\"1\" class=\"dataframe\">\n",
       "  <thead>\n",
       "    <tr style=\"text-align: right;\">\n",
       "      <th></th>\n",
       "      <th></th>\n",
       "      <th></th>\n",
       "      <th></th>\n",
       "      <th>mode_scenario</th>\n",
       "      <th>PT_mf33</th>\n",
       "      <th>PT_mf35</th>\n",
       "      <th>PT_mf37</th>\n",
       "      <th>PT_mf39</th>\n",
       "      <th>PT_mf41</th>\n",
       "      <th>car_mf32</th>\n",
       "      <th>car_mf34</th>\n",
       "      <th>car_mf36</th>\n",
       "      <th>car_mf38</th>\n",
       "      <th>car_mf40</th>\n",
       "    </tr>\n",
       "    <tr>\n",
       "      <th>orig</th>\n",
       "      <th>dest</th>\n",
       "      <th>group</th>\n",
       "      <th>direction</th>\n",
       "      <th>peak</th>\n",
       "      <th></th>\n",
       "      <th></th>\n",
       "      <th></th>\n",
       "      <th></th>\n",
       "      <th></th>\n",
       "      <th></th>\n",
       "      <th></th>\n",
       "      <th></th>\n",
       "      <th></th>\n",
       "      <th></th>\n",
       "    </tr>\n",
       "  </thead>\n",
       "  <tbody>\n",
       "    <tr>\n",
       "      <th rowspan=\"5\" valign=\"top\">73</th>\n",
       "      <th rowspan=\"3\" valign=\"top\">91</th>\n",
       "      <th rowspan=\"3\" valign=\"top\">Between Albany West and Glenfield</th>\n",
       "      <th rowspan=\"3\" valign=\"top\">(Albany West, Glenfield)</th>\n",
       "      <th>AM</th>\n",
       "      <td>45.63702</td>\n",
       "      <td>24.52352</td>\n",
       "      <td>45.79318</td>\n",
       "      <td>46.16450</td>\n",
       "      <td>45.65899</td>\n",
       "      <td>20.75480</td>\n",
       "      <td>21.42929</td>\n",
       "      <td>21.42548</td>\n",
       "      <td>21.69476</td>\n",
       "      <td>21.32716</td>\n",
       "    </tr>\n",
       "    <tr>\n",
       "      <th>IP</th>\n",
       "      <td>38.43072</td>\n",
       "      <td>24.96352</td>\n",
       "      <td>38.61655</td>\n",
       "      <td>38.91262</td>\n",
       "      <td>38.63384</td>\n",
       "      <td>16.70712</td>\n",
       "      <td>16.91160</td>\n",
       "      <td>16.86894</td>\n",
       "      <td>17.13878</td>\n",
       "      <td>16.89537</td>\n",
       "    </tr>\n",
       "    <tr>\n",
       "      <th>PM</th>\n",
       "      <td>45.20456</td>\n",
       "      <td>24.52352</td>\n",
       "      <td>45.85462</td>\n",
       "      <td>45.76068</td>\n",
       "      <td>45.98484</td>\n",
       "      <td>21.63791</td>\n",
       "      <td>22.89888</td>\n",
       "      <td>22.64903</td>\n",
       "      <td>22.61880</td>\n",
       "      <td>22.95977</td>\n",
       "    </tr>\n",
       "    <tr>\n",
       "      <th rowspan=\"2\" valign=\"top\">106</th>\n",
       "      <th rowspan=\"2\" valign=\"top\">Between Albany West and Highbury</th>\n",
       "      <th rowspan=\"2\" valign=\"top\">(Albany West, Highbury)</th>\n",
       "      <th>AM</th>\n",
       "      <td>55.68201</td>\n",
       "      <td>36.84645</td>\n",
       "      <td>55.78659</td>\n",
       "      <td>56.23201</td>\n",
       "      <td>55.88721</td>\n",
       "      <td>26.19773</td>\n",
       "      <td>26.81266</td>\n",
       "      <td>26.72457</td>\n",
       "      <td>27.13767</td>\n",
       "      <td>26.69884</td>\n",
       "    </tr>\n",
       "    <tr>\n",
       "      <th>IP</th>\n",
       "      <td>47.97903</td>\n",
       "      <td>36.52520</td>\n",
       "      <td>48.13311</td>\n",
       "      <td>48.42570</td>\n",
       "      <td>48.32077</td>\n",
       "      <td>22.23366</td>\n",
       "      <td>22.66364</td>\n",
       "      <td>22.85308</td>\n",
       "      <td>22.90579</td>\n",
       "      <td>22.88351</td>\n",
       "    </tr>\n",
       "    <tr>\n",
       "      <th>...</th>\n",
       "      <th>...</th>\n",
       "      <th>...</th>\n",
       "      <th>...</th>\n",
       "      <th>...</th>\n",
       "      <td>...</td>\n",
       "      <td>...</td>\n",
       "      <td>...</td>\n",
       "      <td>...</td>\n",
       "      <td>...</td>\n",
       "      <td>...</td>\n",
       "      <td>...</td>\n",
       "      <td>...</td>\n",
       "      <td>...</td>\n",
       "      <td>...</td>\n",
       "    </tr>\n",
       "    <tr>\n",
       "      <th rowspan=\"5\" valign=\"top\">243</th>\n",
       "      <th rowspan=\"2\" valign=\"top\">122</th>\n",
       "      <th rowspan=\"2\" valign=\"top\">Between CBD and Smales Farm</th>\n",
       "      <th rowspan=\"2\" valign=\"top\">(CBD, Smales Farm)</th>\n",
       "      <th>IP</th>\n",
       "      <td>19.35038</td>\n",
       "      <td>20.91456</td>\n",
       "      <td>18.04926</td>\n",
       "      <td>18.04926</td>\n",
       "      <td>19.66115</td>\n",
       "      <td>10.60525</td>\n",
       "      <td>10.61697</td>\n",
       "      <td>10.58562</td>\n",
       "      <td>10.71850</td>\n",
       "      <td>10.68795</td>\n",
       "    </tr>\n",
       "    <tr>\n",
       "      <th>PM</th>\n",
       "      <td>22.23794</td>\n",
       "      <td>20.47456</td>\n",
       "      <td>17.75592</td>\n",
       "      <td>17.75593</td>\n",
       "      <td>21.40869</td>\n",
       "      <td>16.79614</td>\n",
       "      <td>19.63246</td>\n",
       "      <td>19.24386</td>\n",
       "      <td>20.27797</td>\n",
       "      <td>19.03166</td>\n",
       "    </tr>\n",
       "    <tr>\n",
       "      <th rowspan=\"3\" valign=\"top\">125</th>\n",
       "      <th rowspan=\"3\" valign=\"top\">Between CBD and Takapuna</th>\n",
       "      <th rowspan=\"3\" valign=\"top\">(CBD, Takapuna)</th>\n",
       "      <th>AM</th>\n",
       "      <td>31.56131</td>\n",
       "      <td>18.58304</td>\n",
       "      <td>19.82626</td>\n",
       "      <td>19.82626</td>\n",
       "      <td>21.64936</td>\n",
       "      <td>18.77957</td>\n",
       "      <td>14.10222</td>\n",
       "      <td>12.96760</td>\n",
       "      <td>14.31264</td>\n",
       "      <td>13.42267</td>\n",
       "    </tr>\n",
       "    <tr>\n",
       "      <th>IP</th>\n",
       "      <td>26.02250</td>\n",
       "      <td>19.02304</td>\n",
       "      <td>25.02539</td>\n",
       "      <td>25.29458</td>\n",
       "      <td>22.08936</td>\n",
       "      <td>14.17011</td>\n",
       "      <td>14.46541</td>\n",
       "      <td>13.97321</td>\n",
       "      <td>14.75611</td>\n",
       "      <td>14.41078</td>\n",
       "    </tr>\n",
       "    <tr>\n",
       "      <th>PM</th>\n",
       "      <td>29.02327</td>\n",
       "      <td>18.58304</td>\n",
       "      <td>19.82626</td>\n",
       "      <td>19.82626</td>\n",
       "      <td>21.64937</td>\n",
       "      <td>21.04212</td>\n",
       "      <td>23.84537</td>\n",
       "      <td>20.82592</td>\n",
       "      <td>24.62043</td>\n",
       "      <td>22.15822</td>\n",
       "    </tr>\n",
       "  </tbody>\n",
       "</table>\n",
       "<p>102 rows × 10 columns</p>\n",
       "</div>"
      ],
      "text/plain": [
       "mode_scenario                                                               PT_mf33  \\\n",
       "orig dest group                             direction                peak             \n",
       "73   91   Between Albany West and Glenfield (Albany West, Glenfield) AM    45.63702   \n",
       "                                                                     IP    38.43072   \n",
       "                                                                     PM    45.20456   \n",
       "     106  Between Albany West and Highbury  (Albany West, Highbury)  AM    55.68201   \n",
       "                                                                     IP    47.97903   \n",
       "...                                                                             ...   \n",
       "243  122  Between CBD and Smales Farm       (CBD, Smales Farm)       IP    19.35038   \n",
       "                                                                     PM    22.23794   \n",
       "     125  Between CBD and Takapuna          (CBD, Takapuna)          AM    31.56131   \n",
       "                                                                     IP    26.02250   \n",
       "                                                                     PM    29.02327   \n",
       "\n",
       "mode_scenario                                                               PT_mf35  \\\n",
       "orig dest group                             direction                peak             \n",
       "73   91   Between Albany West and Glenfield (Albany West, Glenfield) AM    24.52352   \n",
       "                                                                     IP    24.96352   \n",
       "                                                                     PM    24.52352   \n",
       "     106  Between Albany West and Highbury  (Albany West, Highbury)  AM    36.84645   \n",
       "                                                                     IP    36.52520   \n",
       "...                                                                             ...   \n",
       "243  122  Between CBD and Smales Farm       (CBD, Smales Farm)       IP    20.91456   \n",
       "                                                                     PM    20.47456   \n",
       "     125  Between CBD and Takapuna          (CBD, Takapuna)          AM    18.58304   \n",
       "                                                                     IP    19.02304   \n",
       "                                                                     PM    18.58304   \n",
       "\n",
       "mode_scenario                                                               PT_mf37  \\\n",
       "orig dest group                             direction                peak             \n",
       "73   91   Between Albany West and Glenfield (Albany West, Glenfield) AM    45.79318   \n",
       "                                                                     IP    38.61655   \n",
       "                                                                     PM    45.85462   \n",
       "     106  Between Albany West and Highbury  (Albany West, Highbury)  AM    55.78659   \n",
       "                                                                     IP    48.13311   \n",
       "...                                                                             ...   \n",
       "243  122  Between CBD and Smales Farm       (CBD, Smales Farm)       IP    18.04926   \n",
       "                                                                     PM    17.75592   \n",
       "     125  Between CBD and Takapuna          (CBD, Takapuna)          AM    19.82626   \n",
       "                                                                     IP    25.02539   \n",
       "                                                                     PM    19.82626   \n",
       "\n",
       "mode_scenario                                                               PT_mf39  \\\n",
       "orig dest group                             direction                peak             \n",
       "73   91   Between Albany West and Glenfield (Albany West, Glenfield) AM    46.16450   \n",
       "                                                                     IP    38.91262   \n",
       "                                                                     PM    45.76068   \n",
       "     106  Between Albany West and Highbury  (Albany West, Highbury)  AM    56.23201   \n",
       "                                                                     IP    48.42570   \n",
       "...                                                                             ...   \n",
       "243  122  Between CBD and Smales Farm       (CBD, Smales Farm)       IP    18.04926   \n",
       "                                                                     PM    17.75593   \n",
       "     125  Between CBD and Takapuna          (CBD, Takapuna)          AM    19.82626   \n",
       "                                                                     IP    25.29458   \n",
       "                                                                     PM    19.82626   \n",
       "\n",
       "mode_scenario                                                               PT_mf41  \\\n",
       "orig dest group                             direction                peak             \n",
       "73   91   Between Albany West and Glenfield (Albany West, Glenfield) AM    45.65899   \n",
       "                                                                     IP    38.63384   \n",
       "                                                                     PM    45.98484   \n",
       "     106  Between Albany West and Highbury  (Albany West, Highbury)  AM    55.88721   \n",
       "                                                                     IP    48.32077   \n",
       "...                                                                             ...   \n",
       "243  122  Between CBD and Smales Farm       (CBD, Smales Farm)       IP    19.66115   \n",
       "                                                                     PM    21.40869   \n",
       "     125  Between CBD and Takapuna          (CBD, Takapuna)          AM    21.64936   \n",
       "                                                                     IP    22.08936   \n",
       "                                                                     PM    21.64937   \n",
       "\n",
       "mode_scenario                                                              car_mf32  \\\n",
       "orig dest group                             direction                peak             \n",
       "73   91   Between Albany West and Glenfield (Albany West, Glenfield) AM    20.75480   \n",
       "                                                                     IP    16.70712   \n",
       "                                                                     PM    21.63791   \n",
       "     106  Between Albany West and Highbury  (Albany West, Highbury)  AM    26.19773   \n",
       "                                                                     IP    22.23366   \n",
       "...                                                                             ...   \n",
       "243  122  Between CBD and Smales Farm       (CBD, Smales Farm)       IP    10.60525   \n",
       "                                                                     PM    16.79614   \n",
       "     125  Between CBD and Takapuna          (CBD, Takapuna)          AM    18.77957   \n",
       "                                                                     IP    14.17011   \n",
       "                                                                     PM    21.04212   \n",
       "\n",
       "mode_scenario                                                              car_mf34  \\\n",
       "orig dest group                             direction                peak             \n",
       "73   91   Between Albany West and Glenfield (Albany West, Glenfield) AM    21.42929   \n",
       "                                                                     IP    16.91160   \n",
       "                                                                     PM    22.89888   \n",
       "     106  Between Albany West and Highbury  (Albany West, Highbury)  AM    26.81266   \n",
       "                                                                     IP    22.66364   \n",
       "...                                                                             ...   \n",
       "243  122  Between CBD and Smales Farm       (CBD, Smales Farm)       IP    10.61697   \n",
       "                                                                     PM    19.63246   \n",
       "     125  Between CBD and Takapuna          (CBD, Takapuna)          AM    14.10222   \n",
       "                                                                     IP    14.46541   \n",
       "                                                                     PM    23.84537   \n",
       "\n",
       "mode_scenario                                                              car_mf36  \\\n",
       "orig dest group                             direction                peak             \n",
       "73   91   Between Albany West and Glenfield (Albany West, Glenfield) AM    21.42548   \n",
       "                                                                     IP    16.86894   \n",
       "                                                                     PM    22.64903   \n",
       "     106  Between Albany West and Highbury  (Albany West, Highbury)  AM    26.72457   \n",
       "                                                                     IP    22.85308   \n",
       "...                                                                             ...   \n",
       "243  122  Between CBD and Smales Farm       (CBD, Smales Farm)       IP    10.58562   \n",
       "                                                                     PM    19.24386   \n",
       "     125  Between CBD and Takapuna          (CBD, Takapuna)          AM    12.96760   \n",
       "                                                                     IP    13.97321   \n",
       "                                                                     PM    20.82592   \n",
       "\n",
       "mode_scenario                                                              car_mf38  \\\n",
       "orig dest group                             direction                peak             \n",
       "73   91   Between Albany West and Glenfield (Albany West, Glenfield) AM    21.69476   \n",
       "                                                                     IP    17.13878   \n",
       "                                                                     PM    22.61880   \n",
       "     106  Between Albany West and Highbury  (Albany West, Highbury)  AM    27.13767   \n",
       "                                                                     IP    22.90579   \n",
       "...                                                                             ...   \n",
       "243  122  Between CBD and Smales Farm       (CBD, Smales Farm)       IP    10.71850   \n",
       "                                                                     PM    20.27797   \n",
       "     125  Between CBD and Takapuna          (CBD, Takapuna)          AM    14.31264   \n",
       "                                                                     IP    14.75611   \n",
       "                                                                     PM    24.62043   \n",
       "\n",
       "mode_scenario                                                              car_mf40  \n",
       "orig dest group                             direction                peak            \n",
       "73   91   Between Albany West and Glenfield (Albany West, Glenfield) AM    21.32716  \n",
       "                                                                     IP    16.89537  \n",
       "                                                                     PM    22.95977  \n",
       "     106  Between Albany West and Highbury  (Albany West, Highbury)  AM    26.69884  \n",
       "                                                                     IP    22.88351  \n",
       "...                                                                             ...  \n",
       "243  122  Between CBD and Smales Farm       (CBD, Smales Farm)       IP    10.68795  \n",
       "                                                                     PM    19.03166  \n",
       "     125  Between CBD and Takapuna          (CBD, Takapuna)          AM    13.42267  \n",
       "                                                                     IP    14.41078  \n",
       "                                                                     PM    22.15822  \n",
       "\n",
       "[102 rows x 10 columns]"
      ]
     },
     "execution_count": 35,
     "metadata": {},
     "output_type": "execute_result"
    }
   ],
   "source": [
    "od_t_mtx.reset_index().groupby('group').agg({'PT_mf33':'min'\tPT_mf35\tPT_mf37\tPT_mf39\tPT_mf41\t'})"
   ]
  },
  {
   "cell_type": "markdown",
   "id": "bd608690-6dfd-4915-9b13-37da52e23fc8",
   "metadata": {},
   "source": [
    "# Combine Trip Matrices into One"
   ]
  },
  {
   "cell_type": "code",
   "execution_count": 127,
   "id": "04a5b10d-6d76-4f76-8f28-eb5defa2945e",
   "metadata": {
    "tags": []
   },
   "outputs": [
    {
     "name": "stdout",
     "output_type": "stream",
     "text": [
      "CPU times: user 14.1 s, sys: 268 ms, total: 14.4 s\n",
      "Wall time: 41.1 s\n"
     ]
    }
   ],
   "source": [
    "%%time\n",
    "\n",
    "data_dir = '/mnt/p/323/3236145/TTR/Model/Outputs/__Shortlist Options/i11.6_pwc/Band_of_Matrices'\n",
    "results = pd.DataFrame()\n",
    "# return_mtx = ['CarP']\n",
    "return_mtx = ['PT Matrix']\n",
    "\n",
    "for path, subdirs, files in os.walk(data_dir):\n",
    "    for name in files:\n",
    "        mtx_path = os.path.join(path, name)\n",
    "        if any([mtx in mtx_path for mtx in return_mtx]):\n",
    "            f = io.open(mtx_path, mode=\"r\", encoding=\"utf-8\")\n",
    "            content = f.readlines()\n",
    "            \n",
    "            scen_name = content[5].split(',')[1].strip()\n",
    "            mtx_name = content[8].split('/')[-1].replace('.csv','').strip()\n",
    "            \n",
    "            result = pd.read_csv(mtx_path, skiprows=10, index_col=0)\n",
    "            result = result.stack().reset_index()\n",
    "            result.columns = ['orig', 'dest', mtx_name]\n",
    "            result = result.loc[result[mtx_name] != 0]\n",
    "            result = result.set_index(['orig', 'dest'])\n",
    "\n",
    "            results = pd.concat([results, result], axis=1)"
   ]
  },
  {
   "cell_type": "code",
   "execution_count": 129,
   "id": "5286e175-9155-4a2f-949f-08d08f9c8e61",
   "metadata": {
    "tags": []
   },
   "outputs": [
    {
     "name": "stdout",
     "output_type": "stream",
     "text": [
      "CPU times: user 8.4 s, sys: 333 ms, total: 8.73 s\n",
      "Wall time: 33.8 s\n"
     ]
    }
   ],
   "source": [
    "%%time\n",
    "\n",
    "# results.to_csv(f\"{data_dir}/car_person_matrices_ijv.csv\")\n",
    "results.fillna(0).to_csv(f\"{data_dir}/PT_person_matrices_ijv.csv\")"
   ]
  },
  {
   "cell_type": "markdown",
   "id": "882721fe-6c09-473b-914c-e5c660e643c5",
   "metadata": {},
   "source": [
    "# Analyse CBD Trips"
   ]
  },
  {
   "cell_type": "code",
   "execution_count": 2,
   "id": "18040d6d-0ddc-4d91-a01c-9b880716a8c7",
   "metadata": {
    "tags": []
   },
   "outputs": [
    {
     "name": "stdout",
     "output_type": "stream",
     "text": [
      "CPU times: user 7.78 s, sys: 717 ms, total: 8.49 s\n",
      "Wall time: 33.6 s\n"
     ]
    }
   ],
   "source": [
    "%%time\n",
    "\n",
    "data_dir = '/mnt/p/323/3236145/TTR/Model/Outputs/__Shortlist Options/i11.6_pwc/Band_of_Matrices'\n",
    "car_mtx = pd.read_csv(f'{data_dir}/car_person_matrices_ijv.csv')\n",
    "pt_mtx = pd.read_csv(f'{data_dir}/PT_person_matrices_ijv.csv')"
   ]
  },
  {
   "cell_type": "code",
   "execution_count": 40,
   "id": "69d47ff1-dece-433d-b1fb-ef742626408a",
   "metadata": {
    "tags": []
   },
   "outputs": [],
   "source": [
    "def summary_by_dest_area(from_zones, to_zones, peak, mtx, prefix):\n",
    "    \n",
    "    peak_cols = [col for col in mtx.columns if f'{peak} ' in col]\n",
    "    \n",
    "    sum_cols = dict()\n",
    "    for col in peak_cols:\n",
    "        sum_cols[f'{prefix}{col[:4]}'] = sum_cols.get(f'{prefix}{col[:4]}', []) + [col]\n",
    "\n",
    "    peak_to_area_mtx = (\n",
    "        mtx\n",
    "        .loc[(mtx['dest'].isin(to_zones)) & (mtx['orig'].isin(from_zones))]\n",
    "        [['orig', 'dest']+peak_cols]\n",
    "        .reset_index(drop=True)\n",
    "    )\n",
    "\n",
    "    for s_col, col in sum_cols.items():\n",
    "        peak_to_area_mtx[s_col] = peak_to_area_mtx[col].sum(axis=1)\n",
    "\n",
    "    peak_to_area = peak_to_area_mtx.sum()\n",
    "    return peak_to_area_mtx, peak_to_area[sum_cols.keys()]"
   ]
  },
  {
   "cell_type": "code",
   "execution_count": 41,
   "id": "d72c7b15-e769-441b-9fd5-4fa8957df857",
   "metadata": {
    "tags": []
   },
   "outputs": [],
   "source": [
    "north_zones = [50,51,52,53,54,55,56,57,58,59,60,61,62,63,64,65,66,67,68,72,73,74,75,76,77,78,79,80,81,82,83,84,85,86,87,88,89,90,91,92,93,94,95,96,97,98,99,100,101,102,103,104,105,106,107,108,109,110,111,112,113,114,115,116,117,118,119,120,121,122,123,124,125,126,127,128,129,130,131,132,133,134]\n",
    "cbd_zones = [243, 244, 245, 246, 247, 248, 249, 250, 251]\n",
    "data_dir = '/mnt/p/323/3236145/TTR/Model/Outputs/__Shortlist Options/i11.6_pwc/Band_of_Matrices'\n",
    "\n",
    "am_to_cbd_car_mtx, am_to_cbd_car = summary_by_dest_area(north_zones, cbd_zones, 'AM', car_mtx, 'car_person_')\n",
    "am_to_cbd_pt_mtx, am_to_cbd_pt = summary_by_dest_area(north_zones, cbd_zones, 'AM', pt_mtx, 'pt_person_')\n",
    "am_to_cbd = pd.concat([am_to_cbd_car, am_to_cbd_pt])\n",
    "\n",
    "am_to_cbd.to_csv(f\"{data_dir}/car_pt_person_north_to_cbd.csv\")"
   ]
  },
  {
   "cell_type": "code",
   "execution_count": 27,
   "id": "63056172-2875-4ab6-83b0-7bd47d20027a",
   "metadata": {
    "tags": []
   },
   "outputs": [
    {
     "data": {
      "text/plain": [
       "174522.36754611347"
      ]
     },
     "execution_count": 27,
     "metadata": {},
     "output_type": "execute_result"
    }
   ],
   "source": [
    "mtx['mf3271 AM PT Matrix'].sum()"
   ]
  },
  {
   "cell_type": "code",
   "execution_count": 28,
   "id": "1ce5e0cb-fd38-40c5-9c75-c34743ba0212",
   "metadata": {
    "tags": []
   },
   "outputs": [
    {
     "data": {
      "text/plain": [
       "174522.36754611347"
      ]
     },
     "execution_count": 28,
     "metadata": {},
     "output_type": "execute_result"
    }
   ],
   "source": [
    "mtx[['mf3271 AM PT Matrix']].sum(axis=1).sum()"
   ]
  }
 ],
 "metadata": {
  "kernelspec": {
   "display_name": "Python 3 (ipykernel)",
   "language": "python",
   "name": "python3"
  },
  "language_info": {
   "codemirror_mode": {
    "name": "ipython",
    "version": 3
   },
   "file_extension": ".py",
   "mimetype": "text/x-python",
   "name": "python",
   "nbconvert_exporter": "python",
   "pygments_lexer": "ipython3",
   "version": "3.8.10"
  }
 },
 "nbformat": 4,
 "nbformat_minor": 5
}
